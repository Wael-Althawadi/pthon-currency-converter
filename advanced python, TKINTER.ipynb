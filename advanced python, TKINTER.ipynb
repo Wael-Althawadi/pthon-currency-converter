{
 "cells": [
  {
   "cell_type": "code",
   "execution_count": null,
   "id": "f68b1bc0",
   "metadata": {},
   "outputs": [],
   "source": [
    "# Function Argument Unpacking (* and ** Operators)"
   ]
  },
  {
   "cell_type": "code",
   "execution_count": null,
   "id": "1d769847",
   "metadata": {},
   "outputs": [],
   "source": [
    "def three(a,b,c):\n",
    "    print(f\"{a*2} {b*3} {c*4}\")"
   ]
  },
  {
   "cell_type": "code",
   "execution_count": null,
   "id": "6224bc35",
   "metadata": {},
   "outputs": [],
   "source": [
    "l = [1,2,3]"
   ]
  },
  {
   "cell_type": "code",
   "execution_count": null,
   "id": "489be3a9",
   "metadata": {},
   "outputs": [],
   "source": [
    "t = (1,2,3)"
   ]
  },
  {
   "cell_type": "code",
   "execution_count": null,
   "id": "93131f82",
   "metadata": {},
   "outputs": [],
   "source": [
    "d = {\"k1\":1,\"k2\":2,\"k3\":3}"
   ]
  },
  {
   "cell_type": "code",
   "execution_count": null,
   "id": "ad06f17d",
   "metadata": {},
   "outputs": [],
   "source": [
    "three(*d.values())"
   ]
  },
  {
   "cell_type": "code",
   "execution_count": null,
   "id": "853f122a",
   "metadata": {},
   "outputs": [],
   "source": [
    "xs = dict()"
   ]
  },
  {
   "cell_type": "code",
   "execution_count": null,
   "id": "a3048701",
   "metadata": {},
   "outputs": [],
   "source": [
    "xs[True] = \"yes\""
   ]
  },
  {
   "cell_type": "code",
   "execution_count": null,
   "id": "4f90376c",
   "metadata": {},
   "outputs": [],
   "source": [
    "xs"
   ]
  },
  {
   "cell_type": "code",
   "execution_count": null,
   "id": "15c58510",
   "metadata": {},
   "outputs": [],
   "source": [
    "xs[1] = \"no\""
   ]
  },
  {
   "cell_type": "code",
   "execution_count": null,
   "id": "8b765658",
   "metadata": {},
   "outputs": [],
   "source": [
    "xs[1.0] = \"maybe\""
   ]
  },
  {
   "cell_type": "code",
   "execution_count": null,
   "id": "dbb2645e",
   "metadata": {},
   "outputs": [],
   "source": [
    "xs"
   ]
  },
  {
   "cell_type": "code",
   "execution_count": null,
   "id": "b02f0efd",
   "metadata": {},
   "outputs": [],
   "source": [
    "# __str__ and __repr__ special methods\n",
    "a = []"
   ]
  },
  {
   "cell_type": "code",
   "execution_count": null,
   "id": "07fe4cfb",
   "metadata": {},
   "outputs": [],
   "source": [
    "class Car:\n",
    "    def __init__(self,km,from_ten_cond):\n",
    "        self.km = km\n",
    "        self.from_ten_cond = from_ten_cond\n",
    "        a.append((self.km,self.from_ten_cond))\n",
    "    def __str__(self):\n",
    "        return f\"this car has {self.km} km  and takes {self.from_ten_cond} from 10\"\n",
    "    def __repr__(self):\n",
    "        return f\"this car has {self.km} km  and takes {self.from_ten_cond} from 10\""
   ]
  },
  {
   "cell_type": "code",
   "execution_count": null,
   "id": "574a764b",
   "metadata": {},
   "outputs": [],
   "source": [
    "car1 = Car(\"100000\",\"7\")"
   ]
  },
  {
   "cell_type": "code",
   "execution_count": null,
   "id": "83d6e082",
   "metadata": {},
   "outputs": [],
   "source": [
    "# __str__\n",
    "print(car1)"
   ]
  },
  {
   "cell_type": "code",
   "execution_count": null,
   "id": "d7fcb574",
   "metadata": {},
   "outputs": [],
   "source": [
    "# __repr__ \n",
    "car1"
   ]
  },
  {
   "cell_type": "code",
   "execution_count": null,
   "id": "9a9e04ff",
   "metadata": {},
   "outputs": [],
   "source": [
    "import pandas as pd"
   ]
  },
  {
   "cell_type": "code",
   "execution_count": null,
   "id": "3b350e58",
   "metadata": {},
   "outputs": [],
   "source": [
    "dataset = pd.read_excel(\"/home/wael/python ex/crypto.xls\")"
   ]
  },
  {
   "cell_type": "code",
   "execution_count": null,
   "id": "99b5d8c7",
   "metadata": {},
   "outputs": [],
   "source": [
    "dataset"
   ]
  },
  {
   "cell_type": "code",
   "execution_count": null,
   "id": "4daacc56",
   "metadata": {},
   "outputs": [],
   "source": []
  },
  {
   "cell_type": "code",
   "execution_count": null,
   "id": "05a48c25",
   "metadata": {},
   "outputs": [],
   "source": []
  },
  {
   "cell_type": "code",
   "execution_count": null,
   "id": "1a4270f0",
   "metadata": {},
   "outputs": [],
   "source": [
    "import pywhatkit\n",
    "from datetime import datetime\n",
    "\n",
    "now = datetime.now()\n",
    "\n",
    "chour = now.strftime(\"%H\")\n",
    "mobile = input('Enter Mobile No of Receiver : ')\n",
    "message = input('Enter Message you wanna send : ')\n",
    "hour = int(input('Enter hour : '))\n",
    "minute = int(input('Enter minute : '))\n",
    "\n",
    "pywhatkit.sendwhatmsg(mobile,message,hour,minute)"
   ]
  },
  {
   "cell_type": "code",
   "execution_count": null,
   "id": "89b85111",
   "metadata": {},
   "outputs": [],
   "source": []
  },
  {
   "cell_type": "code",
   "execution_count": 1,
   "id": "5c5e86ed",
   "metadata": {},
   "outputs": [],
   "source": [
    "from tkinter import *"
   ]
  },
  {
   "cell_type": "code",
   "execution_count": 75,
   "id": "84d883a0",
   "metadata": {},
   "outputs": [],
   "source": []
  },
  {
   "cell_type": "code",
   "execution_count": 84,
   "id": "9ab75393",
   "metadata": {},
   "outputs": [
    {
     "name": "stderr",
     "output_type": "stream",
     "text": [
      "Exception in Tkinter callback\n",
      "Traceback (most recent call last):\n",
      "  File \"/home/wael/anaconda3/lib/python3.9/tkinter/__init__.py\", line 1892, in __call__\n",
      "    return self.func(*args)\n",
      "  File \"/tmp/ipykernel_3984/1471595655.py\", line 7, in my_fun\n",
      "    label = Label(fun_root,text=Input.get())\n",
      "AttributeError: 'NoneType' object has no attribute 'get'\n"
     ]
    }
   ],
   "source": [
    "root = Tk()\n",
    "Input = Entry(root).pack()\n",
    "Input2 = Entry(root).pack()\n",
    "\n",
    "def my_fun():\n",
    "    fun_root = Tk()\n",
    "    label = Label(fun_root,text=Input.get())\n",
    "    label.pack()\n",
    "    \n",
    "\n",
    "button1 = Button(root,text=\"Click here\",fg=\"blue\",bg=\"black\",command = my_fun).pack()\n",
    "\n",
    "\n",
    "mainloop()"
   ]
  },
  {
   "cell_type": "code",
   "execution_count": 87,
   "id": "1ca18ba6",
   "metadata": {},
   "outputs": [],
   "source": [
    "root2 = Tk()\n",
    "e = Entry(root2)\n",
    "e.pack()\n",
    "def fun():\n",
    "    Labe = Label(root2,text =f\" Hello {e.get()}\")\n",
    "    Labe.pack()\n",
    "button1 = Button(root2,text=\"Click here\",command =fun ).pack()\n",
    "mainloop()"
   ]
  },
  {
   "cell_type": "code",
   "execution_count": null,
   "id": "0a7c3bdd",
   "metadata": {},
   "outputs": [],
   "source": []
  },
  {
   "cell_type": "code",
   "execution_count": null,
   "id": "c1898bbc",
   "metadata": {},
   "outputs": [],
   "source": []
  },
  {
   "cell_type": "code",
   "execution_count": null,
   "id": "fa888e4d",
   "metadata": {},
   "outputs": [],
   "source": []
  },
  {
   "cell_type": "code",
   "execution_count": null,
   "id": "2580d040",
   "metadata": {},
   "outputs": [],
   "source": []
  },
  {
   "cell_type": "code",
   "execution_count": null,
   "id": "ba62d854",
   "metadata": {},
   "outputs": [],
   "source": []
  }
 ],
 "metadata": {
  "kernelspec": {
   "display_name": "Python 3 (ipykernel)",
   "language": "python",
   "name": "python3"
  },
  "language_info": {
   "codemirror_mode": {
    "name": "ipython",
    "version": 3
   },
   "file_extension": ".py",
   "mimetype": "text/x-python",
   "name": "python",
   "nbconvert_exporter": "python",
   "pygments_lexer": "ipython3",
   "version": "3.9.7"
  }
 },
 "nbformat": 4,
 "nbformat_minor": 5
}
